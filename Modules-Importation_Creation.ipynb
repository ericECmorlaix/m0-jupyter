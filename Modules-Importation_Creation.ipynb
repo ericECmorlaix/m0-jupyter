{
 "cells": [
  {
   "cell_type": "markdown",
   "metadata": {},
   "source": [
    "# Modules - Un BN pour importer et créer ses propres modules"
   ]
  },
  {
   "cell_type": "markdown",
   "metadata": {},
   "source": [
    "## Importer les fonctions d'un module :\n",
    "\n",
    "Un module est un fichier qui rassemble le code de fonctions et des variables qui ont généralement un rapport entre elles.\n",
    "\n",
    "Il existe différentes méthodes pour importer un module afin d'utiliser ses fonctions et ses variables :"
   ]
  },
  {
   "cell_type": "code",
   "execution_count": null,
   "metadata": {},
   "outputs": [],
   "source": [
    "import math"
   ]
  },
  {
   "cell_type": "markdown",
   "metadata": {},
   "source": [
    "Toutes les fonctions contenues dans ce module sont maintenant accessibles dans ce carnet.\n",
    "\n",
    "La fonction ``help()`` permet alors d'accéder à la documentation de ce module :"
   ]
  },
  {
   "cell_type": "code",
   "execution_count": null,
   "metadata": {},
   "outputs": [],
   "source": [
    "help(math)"
   ]
  },
  {
   "cell_type": "markdown",
   "metadata": {},
   "source": [
    "Pour appeler une fonction du module, il faut taper le nom du module suivi d'un point « . » puis du nom de la fonction :"
   ]
  },
  {
   "cell_type": "code",
   "execution_count": null,
   "metadata": {},
   "outputs": [],
   "source": [
    "math.sqrt(25)"
   ]
  },
  {
   "cell_type": "markdown",
   "metadata": {},
   "source": [
    "La fonction ``help()`` affiche alors la docstring de cette fonction :"
   ]
  },
  {
   "cell_type": "code",
   "execution_count": null,
   "metadata": {},
   "outputs": [],
   "source": [
    "help(math.sqrt)"
   ]
  },
  {
   "cell_type": "markdown",
   "metadata": {},
   "source": [
    "On peut aussi n'importer qu'une fonction d'un module et même lui attribuer un nom personalisé (un alias) :"
   ]
  },
  {
   "cell_type": "code",
   "execution_count": null,
   "metadata": {},
   "outputs": [],
   "source": [
    "from math import sqrt as rc\n",
    "rc(25)"
   ]
  },
  {
   "cell_type": "markdown",
   "metadata": {},
   "source": [
    "> D'une manière générale, et surtout lorsqu'on importe plusieurs modules différents dans le même programme, il faut éviter de faire `from math import *`pour ne pas risquer d'avoir des conflits de nom de fonction.\n",
    "\n",
    "## Créer un module personalisé :\n",
    "\n",
    "Dans le dossier qui contient ce carnet jupyter, créer un nouveau fichier texte et le nommer ``mon_module.py``.\n",
    "\n",
    "Copier puis coller le code suivant de la fonction `affiche_moyenne()` dans ce fichier et l'enregistrer.\n",
    "\n",
    "````Python\n",
    "def affiche_moyenne(prenom : str, note1 : float, note2 : float, note3 : float) -> str :\n",
    "    \"\"\"\n",
    "    ==================================================================================================================\n",
    "    \n",
    "       * Description : \n",
    "          Je calcule la moyenne de 3 notes sur 20 d'un élève et renvoie le résultat formaté pour un affichage de texte ;\n",
    "                        \n",
    "       * Exemple :\n",
    "            >>> affiche_moyenne(\"Boris\", 9,7.5,12)\n",
    "            'La moyenne de Boris est 9.5.'\n",
    "                    \n",
    "       * Préconditions :\n",
    "            - prenom (str) : une chaine de caractères identifiant de l'élève ;\n",
    "            - note_ (float) : un nombre entier ou flottant compris entre 0 et 20 inclus ;\n",
    "                    \n",
    "       * Postconditions :\n",
    "            (str) : une chaine de caractère formatée contenant l'identifiant de l'élève et sa moyenne calculée.\n",
    "        \n",
    "    ==================================================================================================================\n",
    "    \"\"\"\n",
    "    # Assertions de vérification des préconditions :\n",
    "    assert type(prenom) == str  , \"La valeur du premier argument doit être une chaine de caractères identifiant l'élève\"\n",
    "    assert note1 >= 0.0  , \"Le second argument est une note comprise entre 0 et 20 inclus\"\n",
    "    assert note1 <= 20.0  , \"Le second argument est une note comprise entre 0 et 20 inclus\"\n",
    "    \n",
    "    \n",
    "    # bloc d'instructions :\n",
    "    moyenne=(note1+note2+note3)/3\n",
    "    return f\"La moyenne de {prenom} est {moyenne}.\"\n",
    "````\n",
    "\n",
    "Dans ce carnet, exécuter alors les cellules suivantes :"
   ]
  },
  {
   "cell_type": "code",
   "execution_count": null,
   "metadata": {},
   "outputs": [],
   "source": [
    "import mon_module"
   ]
  },
  {
   "cell_type": "code",
   "execution_count": null,
   "metadata": {},
   "outputs": [],
   "source": [
    "mon_module.affiche_moyenne(\"Toto\", 20, 17, 20)"
   ]
  },
  {
   "cell_type": "code",
   "execution_count": null,
   "metadata": {},
   "outputs": [],
   "source": [
    "help(mon_module)"
   ]
  },
  {
   "cell_type": "code",
   "execution_count": null,
   "metadata": {},
   "outputs": [],
   "source": [
    "from mon_module import affiche_moyenne as moy\n",
    "moy(\"Titi\", 12, 9, 15)"
   ]
  },
  {
   "cell_type": "code",
   "execution_count": null,
   "metadata": {},
   "outputs": [],
   "source": [
    "moy? # affiche l'aide de la fonction"
   ]
  },
  {
   "cell_type": "code",
   "execution_count": null,
   "metadata": {},
   "outputs": [],
   "source": [
    "moy?? ## affiche le code source de la fonction"
   ]
  },
  {
   "cell_type": "markdown",
   "metadata": {},
   "source": [
    "Toutes les fonctions qui sont contenues dans le fichier ``mon_module.py`` seront accessibles après `import` dans tout carnet jupyter ouvert depuis le dossier du fichier ``mon_module.py``... "
   ]
  },
  {
   "cell_type": "markdown",
   "metadata": {},
   "source": [
    "<a rel=\"license\" href=\"http://creativecommons.org/licenses/by-sa/4.0/\"><img alt=\"Licence Creative Commons\" style=\"border-width:0\" src=\"https://i.creativecommons.org/l/by-sa/4.0/88x31.png\" /></a><br />Ce document est basé sur un travail partagé par Jean-Claude MEILLAND, il est mis à disposition selon les termes de la <a rel=\"license\" href=\"http://creativecommons.org/licenses/by-sa/4.0/\">Licence Creative Commons Attribution -  Partage dans les Mêmes Conditions 4.0 International</a>.\n",
    "\n",
    "Pour toute question, suggestion ou commentaire : <a href=\"mailto:eric.madec@ecmorlaix.fr\">eric.madec@ecmorlaix.fr</a>"
   ]
  }
 ],
 "metadata": {
  "kernelspec": {
   "display_name": "Python 3",
   "language": "python",
   "name": "python3"
  },
  "language_info": {
   "codemirror_mode": {
    "name": "ipython",
    "version": 3
   },
   "file_extension": ".py",
   "mimetype": "text/x-python",
   "name": "python",
   "nbconvert_exporter": "python",
   "pygments_lexer": "ipython3",
   "version": "3.7.3"
  },
  "toc": {
   "base_numbering": 1,
   "nav_menu": {},
   "number_sections": true,
   "sideBar": true,
   "skip_h1_title": false,
   "title_cell": "Table of Contents",
   "title_sidebar": "Contents",
   "toc_cell": false,
   "toc_position": {},
   "toc_section_display": true,
   "toc_window_display": false
  },
  "varInspector": {
   "cols": {
    "lenName": 16,
    "lenType": 16,
    "lenVar": 40
   },
   "kernels_config": {
    "python": {
     "delete_cmd_postfix": "",
     "delete_cmd_prefix": "del ",
     "library": "var_list.py",
     "varRefreshCmd": "print(var_dic_list())"
    },
    "r": {
     "delete_cmd_postfix": ") ",
     "delete_cmd_prefix": "rm(",
     "library": "var_list.r",
     "varRefreshCmd": "cat(var_dic_list()) "
    }
   },
   "types_to_exclude": [
    "module",
    "function",
    "builtin_function_or_method",
    "instance",
    "_Feature"
   ],
   "window_display": false
  }
 },
 "nbformat": 4,
 "nbformat_minor": 2
}
